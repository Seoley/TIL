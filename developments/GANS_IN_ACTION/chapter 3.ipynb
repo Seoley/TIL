{
 "cells": [
  {
   "cell_type": "code",
   "execution_count": 2,
   "metadata": {},
   "outputs": [
    {
     "name": "stderr",
     "output_type": "stream",
     "text": [
      "c:\\Users\\dltjf\\anaconda3\\envs\\tensor\\lib\\site-packages\\numpy\\_distributor_init.py:30: UserWarning: loaded more than 1 DLL from .libs:\n",
      "c:\\Users\\dltjf\\anaconda3\\envs\\tensor\\lib\\site-packages\\numpy\\.libs\\libopenblas.EL2C6PLE4ZYW3ECEVIV3OXXGRN2NRFM2.gfortran-win_amd64.dll\n",
      "c:\\Users\\dltjf\\anaconda3\\envs\\tensor\\lib\\site-packages\\numpy\\.libs\\libopenblas.FB5AE2TYXYH2IJRDKGDGQ3XBKLKTF43H.gfortran-win_amd64.dll\n",
      "c:\\Users\\dltjf\\anaconda3\\envs\\tensor\\lib\\site-packages\\numpy\\.libs\\libopenblas64__v0.3.21-gcc_10_3_0.dll\n",
      "  warnings.warn(\"loaded more than 1 DLL from .libs:\"\n"
     ]
    }
   ],
   "source": [
    "%matplotlib inline\n",
    "\n",
    "import matplotlib.pyplot as plt\n",
    "import numpy as np\n",
    "\n",
    "from tensorflow.keras.datasets import mnist\n",
    "from tensorflow.keras.layers import Dense, Flatten, Reshape\n",
    "from tensorflow.keras.layers import LeakyReLU\n",
    "from tensorflow.keras.models import Sequential\n",
    "from tensorflow.keras.optimizers import Adam"
   ]
  },
  {
   "cell_type": "code",
   "execution_count": 1,
   "metadata": {},
   "outputs": [],
   "source": [
    "img_rows = 28\n",
    "img_cols = 28\n",
    "channels = 1\n",
    "\n",
    "img_shape = (img_rows, img_cols, channels)\n",
    "\n",
    "z_dim = 100"
   ]
  },
  {
   "cell_type": "markdown",
   "metadata": {},
   "source": [
    "- LeakyReLU 활성화 함수가 좀 더 훈련 결과를 향상시키는 경향이 있음\n",
    "- 일반 ReLU(0또는 1)와 달리 작은 기울기를 사용하여, 그라디언트가 사라지는 것을 막기 때문\n",
    "- 핸즈 온 머신러닝 416p: 0.01정도의 기울기를 부여하여, LeakyReLU(z) = max(az, z)로 정의"
   ]
  },
  {
   "cell_type": "code",
   "execution_count": 8,
   "metadata": {},
   "outputs": [],
   "source": [
    "def build_generator(img_shape, z_dim):\n",
    "    model = Sequential()\n",
    "\n",
    "    model.add(Dense(128, input_dim = z_dim))\n",
    "    model.add(LeakyReLU(alpha = 0.01))\n",
    "    model.add(Dense(28 * 28 * 1, activation='tanh'))\n",
    "    model.add(Reshape(img_shape))\n",
    "    return model"
   ]
  },
  {
   "cell_type": "code",
   "execution_count": 4,
   "metadata": {},
   "outputs": [],
   "source": [
    "def build_discriminator(img_shape):\n",
    "    model = Sequential()\n",
    "    \n",
    "    model.add(Flatten(input_shape = img_shape))\n",
    "    model.add(Dense(128))\n",
    "    model.add(LeakyReLU(alpha = 0.01))\n",
    "    model.add(Dense(1, activation='sigmoid'))\n",
    "    return model"
   ]
  },
  {
   "cell_type": "code",
   "execution_count": 5,
   "metadata": {},
   "outputs": [],
   "source": [
    "def build_gan(generator, discriminator):\n",
    "    model = Sequential()\n",
    "    model.add(generator)\n",
    "    model.add(discriminator)\n",
    "    return model"
   ]
  },
  {
   "cell_type": "code",
   "execution_count": 9,
   "metadata": {},
   "outputs": [],
   "source": [
    "discriminator = build_discriminator(img_shape)\n",
    "discriminator.compile(loss='binary_crossentropy', optimizer = Adam(), metrics = ['accuracy'])\n",
    "\n",
    "generator = build_generator(img_shape, z_dim)\n",
    "\n",
    "discriminator.trainable = False\n",
    "\n",
    "gan = build_gan(generator, discriminator)\n",
    "gan.compile(loss='binary_crossentropy', optimizer = Adam())"
   ]
  },
  {
   "cell_type": "code",
   "execution_count": 12,
   "metadata": {},
   "outputs": [],
   "source": [
    "losses = []\n",
    "accuracties = []\n",
    "iteration_checkpoints = []\n",
    "\n",
    "def train(iterations, batch_size, sample_interval):\n",
    "\n",
    "    (X_train, _), (_, _) = mnist.load_data()\n",
    "\n",
    "    # 정규화 진행. [0,255] -> [-1, 1]\n",
    "    X_train = X_train / 127.5 - 1.0\n",
    "    X_train = np.expand_dims(X_train, axis=3) \n",
    "\n",
    "    real = np.ones(batch_size, 1)\n",
    "    \n",
    "    fake = np.zeros((batch_size, 1))\n",
    "\n",
    "    for iteration in range(iterations):\n",
    "        idx = np.random.randint(0, X_train.shape[0], batch_size) # 최소 0, 최대 X_train.shape[0]에서 batch_size개의 값 추출\n",
    "        # 진짜 이미지 랜덤으로 가져오기\n",
    "        # 가짜 이미지 생성\n",
    "        # 판별자 훈련\n",
    "\n",
    "        print(\"test\")"
   ]
  },
  {
   "cell_type": "code",
   "execution_count": 13,
   "metadata": {},
   "outputs": [
    {
     "data": {
      "text/plain": [
       "array([38698, 19910, 13014, 19726, 30683, 11197, 23589,  5793, 13318,\n",
       "       28265, 25987, 19384, 38661, 28728, 49234, 51052])"
      ]
     },
     "execution_count": 13,
     "metadata": {},
     "output_type": "execute_result"
    }
   ],
   "source": [
    "batch_size = 16\n",
    "\n",
    "(X_train, _), (_, _) = mnist.load_data()\n",
    "\n",
    "# 정규화 진행. [0,255] -> [-1, 1]\n",
    "X_train = X_train / 127.5 - 1.0\n",
    "X_train = np.expand_dims(X_train, axis=3) \n",
    "\n",
    "np.random.randint(0, X_train.shape[0], batch_size)"
   ]
  },
  {
   "cell_type": "code",
   "execution_count": null,
   "metadata": {},
   "outputs": [],
   "source": []
  },
  {
   "cell_type": "code",
   "execution_count": null,
   "metadata": {},
   "outputs": [],
   "source": []
  },
  {
   "cell_type": "code",
   "execution_count": null,
   "metadata": {},
   "outputs": [],
   "source": []
  }
 ],
 "metadata": {
  "kernelspec": {
   "display_name": "tensor",
   "language": "python",
   "name": "python3"
  },
  "language_info": {
   "codemirror_mode": {
    "name": "ipython",
    "version": 3
   },
   "file_extension": ".py",
   "mimetype": "text/x-python",
   "name": "python",
   "nbconvert_exporter": "python",
   "pygments_lexer": "ipython3",
   "version": "3.9.16"
  }
 },
 "nbformat": 4,
 "nbformat_minor": 2
}
