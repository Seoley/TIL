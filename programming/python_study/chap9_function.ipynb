{
 "cells": [
  {
   "cell_type": "code",
   "execution_count": 1,
   "metadata": {},
   "outputs": [],
   "source": [
    "def do_nothing():\n",
    "    pass"
   ]
  },
  {
   "cell_type": "code",
   "execution_count": null,
   "metadata": {},
   "outputs": [],
   "source": [
    "# 함수 내부: 매개변수\n",
    "# 함수 외부: 인수\n",
    "\n",
    "# None: 빠뜨린 빈 값. False와 다르다는 것을 유의할 것.\n",
    "# 위치 인수, 키워드 인수    "
   ]
  },
  {
   "cell_type": "code",
   "execution_count": 8,
   "metadata": {},
   "outputs": [
    {
     "name": "stdout",
     "output_type": "stream",
     "text": [
      "1:  cap\n",
      "2:  gloves\n",
      "args: ('scarf', 'monocle')\n",
      "*args: scarf monocle\n"
     ]
    }
   ],
   "source": [
    "# 위치 인수 분해하기/모으기\n",
    "# 함수의 매개변수에 *를 사용할 때, 매개변수에서 위치변수를 튜플로 묶는다\n",
    "# 관용적으로 args를 사용함, params를 사용할 때도 있음\n",
    "\n",
    "def print_more(required1, required2, *args):\n",
    "    print(\"1: \", required1)\n",
    "    print(\"2: \", required2)\n",
    "    print(\"args:\", args)\n",
    "    print(\"*args:\", *args)\n",
    "\n",
    "print_more('cap', 'gloves', 'scarf', 'monocle')"
   ]
  },
  {
   "cell_type": "code",
   "execution_count": 11,
   "metadata": {},
   "outputs": [
    {
     "name": "stdout",
     "output_type": "stream",
     "text": [
      "Keyword arguments: {}\n",
      "Keyword arguments: {'wine': 'merlot', 'entree': 'mutton', 'dessert': 'macaroon'}\n"
     ]
    }
   ],
   "source": [
    "# 키워드 인수 분해하기/모으기\n",
    "\n",
    "def print_kwargs(**kwargs):\n",
    "    print('Keyword arguments:', kwargs)\n",
    "\n",
    "print_kwargs()\n",
    "print_kwargs(wine='merlot', entree='mutton', dessert='macaroon')"
   ]
  },
  {
   "cell_type": "code",
   "execution_count": null,
   "metadata": {},
   "outputs": [],
   "source": [
    "# 가변객체: 객체(인수)에 할당된 값을 수정할 수 있다 (list, set, dict)\n",
    "# 불변객체: 객체(인수)에 할당된 값을 수정할 수 없다"
   ]
  },
  {
   "cell_type": "code",
   "execution_count": 19,
   "metadata": {},
   "outputs": [],
   "source": [
    "def print_kwargs(**kwargs):\n",
    "    \"\"\"\n",
    "    Dogstring test\n",
    "    어떻게 나오는지 확인하기\n",
    "        - 들여쓰기 포함\n",
    "    \"\"\"\n",
    "\n",
    "    print('Keyword arguments:', kwargs)"
   ]
  },
  {
   "cell_type": "code",
   "execution_count": 20,
   "metadata": {},
   "outputs": [
    {
     "name": "stdout",
     "output_type": "stream",
     "text": [
      "Help on function print_kwargs in module __main__:\n",
      "\n",
      "print_kwargs(**kwargs)\n",
      "    Dogstring test\n",
      "    어떻게 나오는지 확인하기\n",
      "        - 들여쓰기 포함\n",
      "\n"
     ]
    }
   ],
   "source": [
    "help(print_kwargs)"
   ]
  },
  {
   "cell_type": "code",
   "execution_count": 21,
   "metadata": {},
   "outputs": [
    {
     "name": "stdout",
     "output_type": "stream",
     "text": [
      "\n",
      "    Dogstring test\n",
      "    어떻게 나오는지 확인하기\n",
      "        - 들여쓰기 포함\n",
      "    \n"
     ]
    }
   ],
   "source": [
    "print(print_kwargs.__doc__)"
   ]
  }
 ],
 "metadata": {
  "kernelspec": {
   "display_name": "test_env",
   "language": "python",
   "name": "python3"
  },
  "language_info": {
   "codemirror_mode": {
    "name": "ipython",
    "version": 3
   },
   "file_extension": ".py",
   "mimetype": "text/x-python",
   "name": "python",
   "nbconvert_exporter": "python",
   "pygments_lexer": "ipython3",
   "version": "3.7.16"
  }
 },
 "nbformat": 4,
 "nbformat_minor": 2
}
